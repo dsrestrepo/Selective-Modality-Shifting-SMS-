{
 "cells": [
  {
   "cell_type": "markdown",
   "id": "3bbccb79-3282-4738-ac0f-b3bf6ccd5f2f",
   "metadata": {},
   "source": [
    "### Med-VLMs"
   ]
  },
  {
   "cell_type": "code",
   "execution_count": 1,
   "id": "00d391d8-edf4-4bc7-8d52-658f4581df1b",
   "metadata": {},
   "outputs": [
    {
     "name": "stderr",
     "output_type": "stream",
     "text": [
      "/gpfs/users/restrepoda/.conda/envs/biomed-gpt/lib/python3.11/site-packages/tqdm/auto.py:21: TqdmWarning: IProgress not found. Please update jupyter and ipywidgets. See https://ipywidgets.readthedocs.io/en/stable/user_install.html\n",
      "  from .autonotebook import tqdm as notebook_tqdm\n"
     ]
    },
    {
     "name": "stdout",
     "output_type": "stream",
     "text": [
      "[2025-02-23 23:06:07,851] [INFO] [real_accelerator.py:110:get_accelerator] Setting ds_accelerator to cuda (auto detect)\n"
     ]
    }
   ],
   "source": [
    "from llava.mm_utils import (\n",
    "    KeywordsStoppingCriteria,\n",
    "    get_model_name_from_path,\n",
    "    process_images,\n",
    "    tokenizer_image_token,\n",
    ")\n",
    "\n",
    "import torch\n",
    "from llava.constants import DEFAULT_IMAGE_TOKEN, IMAGE_TOKEN_INDEX\n",
    "from llava.conversation import SeparatorStyle, conv_templates\n",
    "from llava.model.builder import load_pretrained_model"
   ]
  },
  {
   "cell_type": "code",
   "execution_count": 2,
   "id": "65c174c8-151c-40b7-8fe9-e8c2ff03a994",
   "metadata": {},
   "outputs": [
    {
     "data": {
      "text/plain": [
       "'llava-med-v1.5-mistral-7b'"
      ]
     },
     "execution_count": 2,
     "metadata": {},
     "output_type": "execute_result"
    }
   ],
   "source": [
    "MODEL = \"microsoft/llava-med-v1.5-mistral-7b\"\n",
    "model_name = get_model_name_from_path(MODEL)\n",
    "model_name"
   ]
  },
  {
   "cell_type": "code",
   "execution_count": 3,
   "id": "39437ec3-45bf-4f9c-82df-0794e4bd792a",
   "metadata": {},
   "outputs": [
    {
     "name": "stderr",
     "output_type": "stream",
     "text": [
      "/gpfs/users/restrepoda/.conda/envs/biomed-gpt/lib/python3.11/site-packages/huggingface_hub/file_download.py:795: FutureWarning: `resume_download` is deprecated and will be removed in version 1.0.0. Downloads always resume when possible. If you want to force a new download, use `force_download=True`.\n",
      "  warnings.warn(\n",
      "You are using the legacy behaviour of the <class 'transformers.models.llama.tokenization_llama.LlamaTokenizer'>. This means that tokens that come after special tokens will not be properly handled. We recommend you to read the related pull request available at https://github.com/huggingface/transformers/pull/24565\n",
      "You are using a model of type llava_mistral to instantiate a model of type llava. This is not supported for all configurations of models and can yield errors.\n",
      "Loading checkpoint shards: 100%|██████████| 4/4 [00:43<00:00, 10.80s/it]\n",
      "Some weights of LlavaLlamaForCausalLM were not initialized from the model checkpoint at microsoft/llava-med-v1.5-mistral-7b and are newly initialized: ['model.layers.13.self_attn.rotary_emb.inv_freq', 'model.layers.11.self_attn.rotary_emb.inv_freq', 'model.layers.3.self_attn.rotary_emb.inv_freq', 'model.layers.2.self_attn.rotary_emb.inv_freq', 'model.layers.28.self_attn.rotary_emb.inv_freq', 'model.layers.14.self_attn.rotary_emb.inv_freq', 'model.layers.12.self_attn.rotary_emb.inv_freq', 'model.layers.18.self_attn.rotary_emb.inv_freq', 'model.layers.16.self_attn.rotary_emb.inv_freq', 'model.layers.5.self_attn.rotary_emb.inv_freq', 'model.layers.0.self_attn.rotary_emb.inv_freq', 'model.layers.1.self_attn.rotary_emb.inv_freq', 'model.layers.31.self_attn.rotary_emb.inv_freq', 'model.layers.8.self_attn.rotary_emb.inv_freq', 'model.layers.6.self_attn.rotary_emb.inv_freq', 'model.layers.30.self_attn.rotary_emb.inv_freq', 'model.layers.23.self_attn.rotary_emb.inv_freq', 'model.layers.9.self_attn.rotary_emb.inv_freq', 'model.layers.19.self_attn.rotary_emb.inv_freq', 'model.layers.7.self_attn.rotary_emb.inv_freq', 'model.layers.15.self_attn.rotary_emb.inv_freq', 'model.layers.4.self_attn.rotary_emb.inv_freq', 'model.layers.21.self_attn.rotary_emb.inv_freq', 'model.layers.17.self_attn.rotary_emb.inv_freq', 'model.layers.26.self_attn.rotary_emb.inv_freq', 'model.layers.24.self_attn.rotary_emb.inv_freq', 'model.layers.22.self_attn.rotary_emb.inv_freq', 'model.layers.29.self_attn.rotary_emb.inv_freq', 'model.layers.10.self_attn.rotary_emb.inv_freq', 'model.layers.25.self_attn.rotary_emb.inv_freq', 'model.layers.27.self_attn.rotary_emb.inv_freq', 'model.layers.20.self_attn.rotary_emb.inv_freq']\n",
      "You should probably TRAIN this model on a down-stream task to be able to use it for predictions and inference.\n"
     ]
    }
   ],
   "source": [
    "tokenizer, model, image_processor, context_len = load_pretrained_model(\n",
    "                                                    model_path=MODEL, \n",
    "                                                    model_base=None, \n",
    "                                                    model_name=model_name, \n",
    "                                                    load_8bit=False)"
   ]
  },
  {
   "cell_type": "code",
   "execution_count": 4,
   "id": "3f912bd9-c298-4160-ad4f-f623d78c0300",
   "metadata": {},
   "outputs": [
    {
     "data": {
      "text/plain": [
       "'microsoft/llava-med-v1.5-mistral-7b'"
      ]
     },
     "execution_count": 4,
     "metadata": {},
     "output_type": "execute_result"
    }
   ],
   "source": [
    "model.config._name_or_path.lower()"
   ]
  },
  {
   "cell_type": "code",
   "execution_count": 5,
   "id": "bc2b9132-3438-401b-ac3c-a649f29e6f13",
   "metadata": {},
   "outputs": [
    {
     "data": {
      "text/plain": [
       "device(type='cuda', index=0)"
      ]
     },
     "execution_count": 5,
     "metadata": {},
     "output_type": "execute_result"
    }
   ],
   "source": [
    "model.device"
   ]
  },
  {
   "cell_type": "code",
   "execution_count": 6,
   "id": "5fb6a29f-0c64-42c5-b267-b72670d96f20",
   "metadata": {},
   "outputs": [],
   "source": [
    "def process_image(image):\n",
    "    args = {\"image_aspect_ratio\": \"pad\"}\n",
    "\n",
    "    image_tensor = process_images([image], image_processor, args)\n",
    "    \n",
    "    return image_tensor.to(model.device, dtype=torch.float16)"
   ]
  },
  {
   "cell_type": "code",
   "execution_count": 7,
   "id": "50bb8ddf-86b8-4188-9d01-bd41634500a2",
   "metadata": {},
   "outputs": [],
   "source": [
    "def apply_chat_template(conversation, add_generation_prompt=False):\n",
    "    # The standard LLaVA approach is to do \"conv.get_prompt()\",\n",
    "    # but you might want to replicate exactly what your code does.\n",
    "    # This is the function that your \"prompts.generate_text()\" calls.\n",
    "    ###roles = conversation[0].get(\"role\", \"user\")\n",
    "    # If you want the same approach as your \"standard\" llava, replicate\n",
    "    # that logic here or see how you do it in your existing code.\n",
    "    #\n",
    "    # A simple approach is: build a single big string with <image> token\n",
    "    # Then rely on the conversation's \"conv_templates\" from LLaVA.\n",
    "\n",
    "    # For example, if you want to replicate the code in llava_med.py:\n",
    "    #   conv = conv_templates[\"llava_v0\"].copy()\n",
    "    #   conv.append_message(conv.roles[0], conversation[0][\"content\"])\n",
    "    #   conv.append_message(conv.roles[1], None)\n",
    "    #   prompt = conv.get_prompt()\n",
    "    #   return prompt\n",
    "    # \n",
    "    # We'll do a minimal version below.\n",
    "\n",
    "    \n",
    "    # conversation[0][\"content\"] = [ {\"type\": \"image\"}, {\"type\": \"text\", \"text\": \"...\"} ]\n",
    "    user_content_list = conversation[0][\"content\"]\n",
    "\n",
    "    # Build a single string out of the list\n",
    "    content_pieces = []\n",
    "    for chunk in user_content_list:\n",
    "        chunk_type = chunk.get(\"type\", \"text\")\n",
    "        if chunk_type == \"image\":\n",
    "            # Insert the LLaVA default image token\n",
    "            content_pieces.append(DEFAULT_IMAGE_TOKEN)\n",
    "        elif chunk_type == \"text\":\n",
    "            text_str = chunk.get(\"text\", \"\")\n",
    "            content_pieces.append(text_str)\n",
    "        else:\n",
    "            # If you have any other chunk types, handle them here\n",
    "            content_pieces.append(\"\")\n",
    "\n",
    "    # Combine everything into one string, with a newline or space\n",
    "    user_text = \"\\n\".join(content_pieces)\n",
    "\n",
    "    conv_mode = \"llava_v0\"\n",
    "    conv = conv_templates[conv_mode].copy()\n",
    "    conv.append_message(conv.roles[0], user_text)\n",
    "    conv.append_message(conv.roles[1], None)\n",
    "    prompt = conv.get_prompt()\n",
    "\n",
    "    return prompt"
   ]
  },
  {
   "cell_type": "code",
   "execution_count": 8,
   "id": "b27f45ab-78ca-4c76-a5f8-23dac09f8b82",
   "metadata": {},
   "outputs": [
    {
     "data": {
      "text/plain": [
       "\"A chat between a curious human and an artificial intelligence assistant. The assistant gives helpful, detailed, and polite answers to the human's questions.###Human: <image>\\nQuestion###Assistant:\""
      ]
     },
     "execution_count": 8,
     "metadata": {},
     "output_type": "execute_result"
    }
   ],
   "source": [
    "conversation = [\n",
    "    {\n",
    "        \"role\": \"user\",\n",
    "        # We assume your standard approach: <image> token + prompt\n",
    "        \"content\": [\n",
    "            {\"type\": \"image\"},\n",
    "            {\"type\": \"text\", \"text\": \"Question\"}\n",
    "        ]\n",
    "    }\n",
    "]\n",
    "ext_prompt = apply_chat_template(conversation, add_generation_prompt=True)\n",
    "ext_prompt"
   ]
  },
  {
   "cell_type": "code",
   "execution_count": 9,
   "id": "445e58a1-1027-4436-b81a-1c0536341d99",
   "metadata": {},
   "outputs": [],
   "source": [
    "CONV_MODE = \"llava_v0\"\n",
    "\n",
    "def create_prompt(prompt: str):\n",
    "    conv = conv_templates[CONV_MODE].copy()\n",
    "    #conv.system = conv.system = \"A chat between a curious human and an artificial intelligence assistant. The assistant concrete and accurate answers to the human's questions.\"\n",
    "    roles = conv.roles\n",
    "    conv.append_message(roles[0], prompt)\n",
    "    conv.append_message(roles[1], None)\n",
    "    return conv.get_prompt(), conv"
   ]
  },
  {
   "cell_type": "code",
   "execution_count": 10,
   "id": "243d14b7-1083-4408-9834-8a1b71874d56",
   "metadata": {},
   "outputs": [
    {
     "name": "stdout",
     "output_type": "stream",
     "text": [
      "A chat between a curious human and an artificial intelligence assistant. The assistant gives helpful, detailed, and polite answers to the human's questions.###Human: <image>\n",
      "What type of imaging does this represent?###Assistant:\n",
      "conv Conversation(system=\"A chat between a curious human and an artificial intelligence assistant. The assistant gives helpful, detailed, and polite answers to the human's questions.\", roles=('Human', 'Assistant'), messages=[['Human', '<image>\\nWhat type of imaging does this represent?'], ['Assistant', None]], offset=0, sep_style=<SeparatorStyle.SINGLE: 1>, sep='###', sep2=None, version='Unknown', skip_next=False)\n"
     ]
    }
   ],
   "source": [
    "prompt, conv = create_prompt(DEFAULT_IMAGE_TOKEN + \"\\n\" + \"What type of imaging does this represent?\")\n",
    "print(prompt)\n",
    "print(\"conv\", conv)"
   ]
  },
  {
   "cell_type": "code",
   "execution_count": 11,
   "id": "925e6519-2776-49e1-b9b8-acd35b987810",
   "metadata": {},
   "outputs": [],
   "source": [
    "from PIL import Image\n",
    "\n",
    "def ask_image(image: Image, prompt: str):\n",
    "    print(\"Input prompt:\", prompt)\n",
    "    image_tensor = process_image(image)\n",
    "\n",
    "    #print(f\"Image shape {image_tensor.shape}\")\n",
    "    \n",
    "    prompt, conv = create_prompt(prompt)\n",
    "    input_ids = (\n",
    "        tokenizer_image_token(prompt, tokenizer, IMAGE_TOKEN_INDEX, return_tensors=\"pt\")\n",
    "        .unsqueeze(0)\n",
    "        .to(model.device)\n",
    "    )\n",
    "    \n",
    "    #print(\"Input IDs:\", input_ids)\n",
    "\n",
    "\n",
    "    stop_str = conv.sep if conv.sep_style != SeparatorStyle.TWO else conv.sep2\n",
    "    stopping_criteria = KeywordsStoppingCriteria(\n",
    "        keywords=[stop_str], tokenizer=tokenizer, input_ids=input_ids\n",
    "    )\n",
    "\n",
    "    #print(\"Stop\", [stopping_criteria])\n",
    "\n",
    "    with torch.inference_mode():\n",
    "        output_ids = model.generate(\n",
    "            input_ids,\n",
    "            images=image_tensor,\n",
    "            do_sample=False,\n",
    "            temperature=0.01,\n",
    "            max_new_tokens=512,\n",
    "            use_cache=True,\n",
    "            stopping_criteria=[stopping_criteria],\n",
    "            output_attentions=True,\n",
    "            output_scores=True,\n",
    "            return_dict_in_generate=True\n",
    "        )\n",
    "    #return output_ids.keys()\n",
    "        print(len(output_ids.sequences[0][input_ids.shape[1]:]))\n",
    "        print(\"decoded output_ids\", tokenizer.decode(output_ids.sequences[0][input_ids.shape[1]:])) #input_ids.shape[1] :\n",
    "    return tokenizer.decode(\n",
    "        output_ids.sequences[0][input_ids.shape[1] :], skip_special_tokens=True\n",
    "    ).strip(), output_ids.scores, output_ids"
   ]
  },
  {
   "cell_type": "code",
   "execution_count": 12,
   "id": "d2893997-cb91-402d-adfe-47d1832bd03c",
   "metadata": {},
   "outputs": [],
   "source": [
    "#from src.datasets import load_mimic\n",
    "#metadata_test = load_mimic(train=False, validation=False,check_images=False)\n",
    "\n",
    "#metadata_test"
   ]
  },
  {
   "cell_type": "code",
   "execution_count": 13,
   "id": "4817762d-e234-4fb6-a667-2818370d57c0",
   "metadata": {},
   "outputs": [
    {
     "data": {
      "image/jpeg": "[encoded data removed]",
      "image/png": "[encoded data removed]",
      "text/plain": [
       "<PIL.JpegImagePlugin.JpegImageFile image mode=L size=224x224>"
      ]
     },
     "execution_count": 13,
     "metadata": {},
     "output_type": "execute_result"
    }
   ],
   "source": [
    "#img = Image.open(metadata_test.filepath[0])\n",
    "img = Image.open('/gpfs/workdir/restrepoda/datasets/MIMIC/mimic/preproc_224x224/s53362948_bc351054-9432e570-d8e3300b-11abaaec-7641741f.jpg')\n",
    "img"
   ]
  },
  {
   "cell_type": "code",
   "execution_count": 14,
   "id": "364bca3c-e400-44cc-b290-ce25fc088956",
   "metadata": {},
   "outputs": [
    {
     "name": "stdout",
     "output_type": "stream",
     "text": [
      "Input prompt: <image>\n",
      " The AP radiograph of the chest demonstrates a top normal heart and\n",
      " mediastinum, stable in appearance.  As compared to the prior study, there is\n",
      " improvement in aeration of the lungs with minimal basal atelectasis but no\n",
      " evidence of consolidation to suggest development of infectious process.  No\n",
      " appreciable pleural effusion or pneumothorax is seen. Based on the provided patient information and the associated chest X-ray image, does the patien has any condition (Pleural Effusion, Atelectasis, Cardiomegaly, Consolidation, Edema, Enlarged Cardiomediastinum, Fracture, Lung Lesion, Lung Opacity, Pleural Other, Pneumonia, or Pneumothorax)?\n",
      "\n",
      "Your response must be \"Yes\" if any condition is detected or \"No\" if no abnormality is detected. Your response should be only \"yes\" or \"no\" (without additional commentary).\n"
     ]
    },
    {
     "name": "stderr",
     "output_type": "stream",
     "text": [
      "/gpfs/users/restrepoda/.conda/envs/biomed-gpt/lib/python3.11/site-packages/transformers/generation/utils.py:1270: UserWarning: You have modified the pretrained model configuration to control generation. This is a deprecated strategy to control generation and will be removed soon, in a future version. Please use a generation configuration file (see https://huggingface.co/docs/transformers/main_classes/text_generation )\n",
      "  warnings.warn(\n"
     ]
    },
    {
     "name": "stdout",
     "output_type": "stream",
     "text": [
      "40\n",
      "decoded output_ids  The chest X-ray image shows no appreciable pleural effusion or pneumothorax. Based on the provided information, the patient does not have any of the mentioned conditions. </s>\n"
     ]
    }
   ],
   "source": [
    "prompt = DEFAULT_IMAGE_TOKEN + \"\\n\" + \"\"\" The AP radiograph of the chest demonstrates a top normal heart and\n",
    " mediastinum, stable in appearance.  As compared to the prior study, there is\n",
    " improvement in aeration of the lungs with minimal basal atelectasis but no\n",
    " evidence of consolidation to suggest development of infectious process.  No\n",
    " appreciable pleural effusion or pneumothorax is seen. Based on the provided patient information and the associated chest X-ray image, does the patien has any condition (Pleural Effusion, Atelectasis, Cardiomegaly, Consolidation, Edema, Enlarged Cardiomediastinum, Fracture, Lung Lesion, Lung Opacity, Pleural Other, Pneumonia, or Pneumothorax)?\n",
    "\n",
    "Your response must be \"Yes\" if any condition is detected or \"No\" if no abnormality is detected. Your response should be only \"yes\" or \"no\" (without additional commentary).\"\"\"\n",
    "out, logits, output_ids = ask_image(img, prompt)"
   ]
  },
  {
   "cell_type": "markdown",
   "id": "c6abbcf7-3460-4e36-8bb1-e42a392d36cc",
   "metadata": {},
   "source": [
    "### Logits"
   ]
  },
  {
   "cell_type": "code",
   "execution_count": 15,
   "id": "aa8a84ba-9fe9-41be-b7fb-79174e736702",
   "metadata": {},
   "outputs": [
    {
     "data": {
      "text/plain": [
       "tensor(415, device='cuda:0')"
      ]
     },
     "execution_count": 15,
     "metadata": {},
     "output_type": "execute_result"
    }
   ],
   "source": [
    "import torch\n",
    "torch.argmax(logits[0][0].softmax(dim=0))"
   ]
  },
  {
   "cell_type": "code",
   "execution_count": 16,
   "id": "bd1793eb-5147-4125-849f-8bcc73305f43",
   "metadata": {},
   "outputs": [
    {
     "data": {
      "text/plain": [
       "'The'"
      ]
     },
     "execution_count": 16,
     "metadata": {},
     "output_type": "execute_result"
    }
   ],
   "source": [
    "tokenizer.decode(415)"
   ]
  },
  {
   "cell_type": "code",
   "execution_count": 17,
   "id": "0b5c5fa7-fe93-42e0-a820-9d1ecd61db52",
   "metadata": {},
   "outputs": [
    {
     "data": {
      "text/plain": [
       "tensor(6.2656, device='cuda:0', dtype=torch.float16)"
      ]
     },
     "execution_count": 17,
     "metadata": {},
     "output_type": "execute_result"
    }
   ],
   "source": [
    "tokenizer.encode(\"yes\") # [1, 5081]\n",
    "logits[0][0][5081]"
   ]
  },
  {
   "cell_type": "code",
   "execution_count": 18,
   "id": "59ea37dc-5633-448b-b46a-227fca3264c6",
   "metadata": {},
   "outputs": [
    {
     "data": {
      "text/plain": [
       "tensor(7.8398, device='cuda:0', dtype=torch.float16)"
      ]
     },
     "execution_count": 18,
     "metadata": {},
     "output_type": "execute_result"
    }
   ],
   "source": [
    "tokenizer.encode(\"no\") # [1, 708]\n",
    "logits[0][0][708]"
   ]
  },
  {
   "cell_type": "code",
   "execution_count": 19,
   "id": "5a8a7a8d-0924-41b2-a225-632483e946be",
   "metadata": {},
   "outputs": [
    {
     "data": {
      "text/plain": [
       "tensor(12.6641, device='cuda:0', dtype=torch.float16)"
      ]
     },
     "execution_count": 19,
     "metadata": {},
     "output_type": "execute_result"
    }
   ],
   "source": [
    "tokenizer.encode(\"Yes\") # [1, 5592]\n",
    "logits[0][0][5592]"
   ]
  },
  {
   "cell_type": "code",
   "execution_count": 20,
   "id": "3ece59a1-d63f-42a2-a259-6baca766c629",
   "metadata": {},
   "outputs": [
    {
     "data": {
      "text/plain": [
       "tensor(12.5703, device='cuda:0', dtype=torch.float16)"
      ]
     },
     "execution_count": 20,
     "metadata": {},
     "output_type": "execute_result"
    }
   ],
   "source": [
    "tokenizer.encode(\"No\") # [1, 1770]\n",
    "logits[0][0][1770]"
   ]
  },
  {
   "cell_type": "markdown",
   "id": "246117fb-4422-4a42-a4d7-aa83afe9302b",
   "metadata": {},
   "source": [
    "### Attention"
   ]
  },
  {
   "cell_type": "code",
   "execution_count": 28,
   "id": "5d06450e-f449-4a81-9013-c14afb0affd7",
   "metadata": {},
   "outputs": [
    {
     "data": {
      "text/plain": [
       "torch.Size([1, 32, 829, 829])"
      ]
     },
     "execution_count": 28,
     "metadata": {},
     "output_type": "execute_result"
    }
   ],
   "source": [
    "output_ids.attentions[0][0].shape"
   ]
  },
  {
   "cell_type": "code",
   "execution_count": null,
   "id": "47420260-a18c-49ce-bcec-e88da493fb32",
   "metadata": {},
   "outputs": [],
   "source": []
  },
  {
   "cell_type": "code",
   "execution_count": null,
   "id": "6384178b-7b61-43db-aab7-8c2d67346b91",
   "metadata": {},
   "outputs": [],
   "source": []
  }
 ],
 "metadata": {
  "kernelspec": {
   "display_name": "Python (llava)",
   "language": "python",
   "name": "llava"
  },
  "language_info": {
   "codemirror_mode": {
    "name": "ipython",
    "version": 3
   },
   "file_extension": ".py",
   "mimetype": "text/x-python",
   "name": "python",
   "nbconvert_exporter": "python",
   "pygments_lexer": "ipython3",
   "version": "3.11.11"
  }
 },
 "nbformat": 4,
 "nbformat_minor": 5
}
