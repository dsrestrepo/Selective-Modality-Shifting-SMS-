{
 "cells": [
  {
   "cell_type": "code",
   "execution_count": 13,
   "id": "959d04ba-0c2b-4a62-a1c0-e95203629106",
   "metadata": {},
   "outputs": [
    {
     "data": {
      "application/vnd.jupyter.widget-view+json": {
       "model_id": "3bd41c445cb24a93b6495ef4e62726bd",
       "version_major": 2,
       "version_minor": 0
      },
      "text/plain": [
       "Loading checkpoint shards:   0%|          | 0/2 [00:00<?, ?it/s]"
      ]
     },
     "metadata": {},
     "output_type": "display_data"
    }
   ],
   "source": [
    "# pip install accelerate\n",
    "from transformers import AutoProcessor, AutoModelForImageTextToText\n",
    "from PIL import Image\n",
    "import requests\n",
    "import torch\n",
    "\n",
    "model_id = \"google/medgemma-4b-it\"\n",
    "\n",
    "model = AutoModelForImageTextToText.from_pretrained(\n",
    "    model_id,\n",
    "    torch_dtype=torch.bfloat16,\n",
    "    device_map=\"cuda\",\n",
    "    output_attentions=True,\n",
    "    output_scores=True,\n",
    "    return_dict_in_generate=True,\n",
    "    #attn_implementation=\"eager\"\n",
    ")\n",
    "\n",
    "processor = AutoProcessor.from_pretrained(model_id)"
   ]
  },
  {
   "cell_type": "code",
   "execution_count": 14,
   "id": "e8971cb5-9aab-4992-8e96-0d93568645ce",
   "metadata": {},
   "outputs": [],
   "source": [
    "# Image attribution: Stillwaterising, CC0, via Wikimedia Commons\n",
    "image_url = \"https://upload.wikimedia.org/wikipedia/commons/c/c8/Chest_Xray_PA_3-8-2010.png\"\n",
    "image = Image.open(requests.get(image_url, headers={\"User-Agent\": \"example\"}, stream=True).raw)"
   ]
  },
  {
   "cell_type": "code",
   "execution_count": 17,
   "id": "095b36fa-c578-4203-a5f6-6af2ba917bc6",
   "metadata": {},
   "outputs": [
    {
     "name": "stderr",
     "output_type": "stream",
     "text": [
      "Setting `pad_token_id` to `eos_token_id`:1 for open-end generation.\n"
     ]
    },
    {
     "name": "stdout",
     "output_type": "stream",
     "text": [
      "Okay, here's a description of the chest X-ray based on the image provided:\n",
      "\n",
      "**Overall Impression:**\n",
      "\n",
      "The image shows a standard PA (Posterior-Anterior) chest X-ray. The lungs appear clear, and there are no obvious signs of acute pathology.\n",
      "\n",
      "**Specific Findings:**\n",
      "\n",
      "*   **Heart Size:** The heart size appears within normal limits.\n",
      "*   **Mediastinum:** The mediastinum (the space between the lungs containing the heart, great vessels, trachea, etc.) appears unremarkable.\n",
      "*   **Lungs:** The lungs are clear bilaterally, with no evidence of consolidation, nodules, masses, or significant pleural effusions.\n",
      "*   **Bones:** The ribs, clavicles, and thoracic spine appear intact.\n",
      "*   **Diaphragm:** The diaphragms are well-defined.\n",
      "*   **Soft Tissues:** The soft tissues of the chest wall are unremarkable.\n",
      "\n",
      "**Possible Considerations (Without Clinical Context\n"
     ]
    }
   ],
   "source": [
    "messages = [\n",
    "    {\n",
    "        \"role\": \"system\",\n",
    "        \"content\": [{\"type\": \"text\", \"text\": \"You are an expert radiologist.\"}]\n",
    "    },\n",
    "    {\n",
    "        \"role\": \"user\",\n",
    "        \"content\": [\n",
    "            {\"type\": \"text\", \"text\": \"Describe this X-ray\"},\n",
    "            {\"type\": \"image\", \"image\": image}\n",
    "        ]\n",
    "    }\n",
    "]\n",
    "\n",
    "inputs = processor.apply_chat_template(\n",
    "    messages, add_generation_prompt=True, tokenize=True,\n",
    "    return_dict=True, return_tensors=\"pt\"\n",
    ").to(model.device, dtype=torch.bfloat16)\n",
    "\n",
    "input_len = inputs[\"input_ids\"].shape[-1]\n",
    "\n",
    "with torch.inference_mode():\n",
    "    generation = model.generate(**inputs, max_new_tokens=200, do_sample=False,\n",
    "                                return_dict_in_generate=True,\n",
    "                                output_attentions=True,\n",
    "                                output_scores=True,\n",
    "                               )#, disable_compile=True)\n",
    "    generation_out = generation.sequences[0][input_len:]\n",
    "\n",
    "decoded = processor.decode(generation_out, skip_special_tokens=True)\n",
    "print(decoded)"
   ]
  },
  {
   "cell_type": "code",
   "execution_count": 20,
   "id": "2144e29f-3851-49da-9dce-b07be1e672a5",
   "metadata": {},
   "outputs": [
    {
     "data": {
      "text/plain": [
       "odict_keys(['sequences', 'scores', 'attentions', 'past_key_values'])"
      ]
     },
     "execution_count": 20,
     "metadata": {},
     "output_type": "execute_result"
    }
   ],
   "source": [
    "generation.keys()"
   ]
  },
  {
   "cell_type": "code",
   "execution_count": null,
   "id": "46fa824b-b825-455c-b1cc-40b4a03de174",
   "metadata": {},
   "outputs": [],
   "source": []
  },
  {
   "cell_type": "code",
   "execution_count": null,
   "id": "0100f910-c1c5-4e79-8e14-797cf3652e7f",
   "metadata": {},
   "outputs": [],
   "source": []
  },
  {
   "cell_type": "code",
   "execution_count": null,
   "id": "7f799dfc-3797-49b1-964a-ee3d213a75a5",
   "metadata": {},
   "outputs": [],
   "source": []
  }
 ],
 "metadata": {
  "kernelspec": {
   "display_name": "Python 3 (ipykernel)",
   "language": "python",
   "name": "python3"
  },
  "language_info": {
   "codemirror_mode": {
    "name": "ipython",
    "version": 3
   },
   "file_extension": ".py",
   "mimetype": "text/x-python",
   "name": "python",
   "nbconvert_exporter": "python",
   "pygments_lexer": "ipython3",
   "version": "3.12.7"
  }
 },
 "nbformat": 4,
 "nbformat_minor": 5
}
