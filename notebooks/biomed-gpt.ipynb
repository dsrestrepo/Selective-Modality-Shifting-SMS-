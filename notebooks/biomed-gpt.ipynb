{
 "cells": [
  {
   "cell_type": "code",
   "execution_count": 1,
   "id": "d6c42994-a890-4917-8706-fc457ccae45f",
   "metadata": {},
   "outputs": [],
   "source": [
    "#!git clone https://huggingface.co/PanaceaAI/BiomedGPT-Base-Pretrained\n",
    "#!git clone --single-branch --branch feature/add_transformers https://github.com/OFA-Sys/OFA.git\n",
    "#!pip install OFA/transformers"
   ]
  },
  {
   "cell_type": "code",
   "execution_count": 1,
   "id": "7d8a9ef2-2e95-4f54-8529-e719fc6e3456",
   "metadata": {
    "scrolled": true
   },
   "outputs": [
    {
     "name": "stderr",
     "output_type": "stream",
     "text": [
      "/gpfs/workdir/restrepoda/environments/biomed_venv/lib/python3.12/site-packages/tqdm/auto.py:21: TqdmWarning: IProgress not found. Please update jupyter and ipywidgets. See https://ipywidgets.readthedocs.io/en/stable/user_install.html\n",
      "  from .autonotebook import tqdm as notebook_tqdm\n"
     ]
    },
    {
     "name": "stdout",
     "output_type": "stream",
     "text": [
      "PanaceaAI/BiomedGPT-Base-Pretrained\n",
      "<super: <class 'OFATokenizer'>, <OFATokenizer object>>\n"
     ]
    },
    {
     "name": "stderr",
     "output_type": "stream",
     "text": [
      "/gpfs/workdir/restrepoda/environments/biomed_venv/lib/python3.12/site-packages/torch/functional.py:539: UserWarning: torch.meshgrid: in an upcoming release, it will be required to pass the indexing argument. (Triggered internally at /pytorch/aten/src/ATen/native/TensorShape.cpp:3637.)\n",
      "  return _VF.meshgrid(tensors, **kwargs)  # type: ignore[attr-defined]\n"
     ]
    }
   ],
   "source": [
    "from transformers import OFATokenizer, OFAModel\n",
    "import torch\n",
    "#model_name = \"BiomedGPT-Base-Pretrained\"\n",
    "model_name = 'PanaceaAI/BiomedGPT-Base-Pretrained'\n",
    "tokenizer = OFATokenizer.from_pretrained(model_name,\n",
    "        quantization_config=None,\n",
    "        torch_dtype=torch.float16,\n",
    "        output_attentions=True,\n",
    "        output_scores=True,\n",
    "        return_dict_in_generate=True)#(f\"./{model_name}\")\n",
    "\n",
    "model = OFAModel.from_pretrained(model_name)#(f\"./{model_name}\")\n",
    "model = model.to(\"cuda\")"
   ]
  },
  {
   "cell_type": "code",
   "execution_count": 2,
   "id": "15d5e6a1-6065-4417-b6d8-38bf5ca050c6",
   "metadata": {},
   "outputs": [],
   "source": [
    "import re\n",
    "\n",
    "import torch\n",
    "from PIL import Image\n",
    "from torchvision import transforms\n",
    "\n",
    "\n",
    "mean, std = [0.5, 0.5, 0.5], [0.5, 0.5, 0.5]\n",
    "resolution = 480\n",
    "\n",
    "patch_resize_transform = transforms.Compose([\n",
    "        lambda image: image.convert(\"RGB\"),\n",
    "        transforms.Resize((resolution, resolution), interpolation=Image.BICUBIC),\n",
    "        transforms.ToTensor(),\n",
    "        transforms.Normalize(mean=mean, std=std)\n",
    "    ])\n"
   ]
  },
  {
   "cell_type": "code",
   "execution_count": 3,
   "id": "d47c0df5-19a8-4195-ba22-e7fecc771763",
   "metadata": {},
   "outputs": [],
   "source": [
    "#!gdown --id 1kojeqtJSx3MzdY3jd--XzeJrdyiFuzC8 -O example.jpg\n",
    "\n",
    "img = Image.open('example.jpg')\n",
    "\n",
    "txt = \"What modality is used to take this image?\"\n",
    "inputs = tokenizer([txt], return_tensors=\"pt\").input_ids\n",
    "patch_img = patch_resize_transform(img).unsqueeze(0)\n"
   ]
  },
  {
   "cell_type": "code",
   "execution_count": 17,
   "id": "acf58418-cded-4673-9fba-2820c418ec27",
   "metadata": {},
   "outputs": [],
   "source": [
    "gen = model.generate(inputs.to(\"cuda\"), \n",
    "                     patch_images=patch_img.to(\"cuda\"), \n",
    "                     #num_beams=5, \n",
    "                     no_repeat_ngram_size=3, \n",
    "                     max_length=512, \n",
    "                     do_sample=False,\n",
    "                     temperature=0.01,\n",
    "                     output_attentions=True,\n",
    "                     output_scores=True,\n",
    "                     return_dict_in_generate=True)\n"
   ]
  },
  {
   "cell_type": "code",
   "execution_count": 6,
   "id": "0982d164-6113-4190-8605-6121ce2bc9bb",
   "metadata": {},
   "outputs": [
    {
     "data": {
      "text/plain": [
       "odict_keys(['sequences', 'scores', 'encoder_attentions', 'decoder_attentions', 'cross_attentions'])"
      ]
     },
     "execution_count": 6,
     "metadata": {},
     "output_type": "execute_result"
    }
   ],
   "source": [
    "gen.keys()"
   ]
  },
  {
   "cell_type": "code",
   "execution_count": 7,
   "id": "d1974352-eb7b-4525-867b-03036cbb01ce",
   "metadata": {},
   "outputs": [
    {
     "data": {
      "text/plain": [
       "'illustration is used to take this information on which the continuous feedback information is used if if no'"
      ]
     },
     "execution_count": 7,
     "metadata": {},
     "output_type": "execute_result"
    }
   ],
   "source": [
    "results = tokenizer.batch_decode(gen['sequences'], skip_special_tokens=True)\n",
    "\n",
    "result = results[0]\n",
    "result = re.sub(r'[^\\w\\s]', '', result).strip()\n",
    "\n",
    "result"
   ]
  },
  {
   "cell_type": "code",
   "execution_count": 8,
   "id": "47015376-5a0e-4574-9cec-9af51d737a29",
   "metadata": {},
   "outputs": [
    {
     "data": {
      "text/plain": [
       "tensor([[    0, 21276,    16,   341,     7,   185,    42,   335,    15,    61,\n",
       "             5, 11152,  6456,   335,    16,   341,   114,   114,   117,     2]],\n",
       "       device='cuda:0')"
      ]
     },
     "execution_count": 8,
     "metadata": {},
     "output_type": "execute_result"
    }
   ],
   "source": [
    "gen['sequences']"
   ]
  },
  {
   "cell_type": "code",
   "execution_count": 9,
   "id": "1913556d-2c4e-4c6f-a81a-7e3016310832",
   "metadata": {},
   "outputs": [
    {
     "data": {
      "text/plain": [
       "torch.Size([1, 59457])"
      ]
     },
     "execution_count": 9,
     "metadata": {},
     "output_type": "execute_result"
    }
   ],
   "source": [
    "gen['scores'][0].shape"
   ]
  },
  {
   "cell_type": "code",
   "execution_count": 10,
   "id": "dd28c273-8086-4211-878a-ef160e23ed93",
   "metadata": {},
   "outputs": [
    {
     "data": {
      "text/plain": [
       "3084"
      ]
     },
     "execution_count": 10,
     "metadata": {},
     "output_type": "execute_result"
    }
   ],
   "source": [
    "tokenizer.encode(\"No\")[1]"
   ]
  },
  {
   "cell_type": "code",
   "execution_count": 11,
   "id": "d5ccd573-4efd-4408-8159-fe4ba5690ed0",
   "metadata": {},
   "outputs": [
    {
     "data": {
      "text/plain": [
       "10932"
      ]
     },
     "execution_count": 11,
     "metadata": {},
     "output_type": "execute_result"
    }
   ],
   "source": [
    "tokenizer(\"yes\", add_special_tokens=False)[\"input_ids\"][0]"
   ]
  },
  {
   "cell_type": "code",
   "execution_count": 12,
   "id": "6a8574bd-a1af-4ed1-8794-bd32d6d200c4",
   "metadata": {},
   "outputs": [
    {
     "data": {
      "text/plain": [
       "tensor(3.9010, device='cuda:0')"
      ]
     },
     "execution_count": 12,
     "metadata": {},
     "output_type": "execute_result"
    }
   ],
   "source": [
    "gen['scores'][0][0][tokenizer(\"yes\", add_special_tokens=False)[\"input_ids\"][0]]"
   ]
  },
  {
   "cell_type": "code",
   "execution_count": 13,
   "id": "082f979b-754a-4f07-a037-79e511941352",
   "metadata": {},
   "outputs": [
    {
     "data": {
      "text/plain": [
       "tensor(1.9095, device='cuda:0')"
      ]
     },
     "execution_count": 13,
     "metadata": {},
     "output_type": "execute_result"
    }
   ],
   "source": [
    "gen['scores'][0][0][tokenizer(\"no\", add_special_tokens=False)[\"input_ids\"][0]]"
   ]
  },
  {
   "cell_type": "code",
   "execution_count": 14,
   "id": "3a51678c-7467-49d2-ab7a-d8ae6d201576",
   "metadata": {},
   "outputs": [
    {
     "data": {
      "text/plain": [
       "tensor(-2.3328, device='cuda:0')"
      ]
     },
     "execution_count": 14,
     "metadata": {},
     "output_type": "execute_result"
    }
   ],
   "source": [
    "gen['scores'][0][0][tokenizer(\"Yes\", add_special_tokens=False)[\"input_ids\"][0]]"
   ]
  },
  {
   "cell_type": "code",
   "execution_count": 15,
   "id": "1e28ece3-c1d5-49c7-afc6-02c387057775",
   "metadata": {},
   "outputs": [
    {
     "data": {
      "text/plain": [
       "tensor(-2.3322, device='cuda:0')"
      ]
     },
     "execution_count": 15,
     "metadata": {},
     "output_type": "execute_result"
    }
   ],
   "source": [
    "gen['scores'][0][0][tokenizer(\"No\", add_special_tokens=False)[\"input_ids\"][0]]"
   ]
  },
  {
   "cell_type": "code",
   "execution_count": null,
   "id": "f9bef68e-95c1-44a6-8da8-5a76c77e27c3",
   "metadata": {},
   "outputs": [],
   "source": []
  },
  {
   "cell_type": "code",
   "execution_count": null,
   "id": "fcdf8434-ba83-4d6f-973c-2d057a607cf0",
   "metadata": {},
   "outputs": [],
   "source": []
  }
 ],
 "metadata": {
  "kernelspec": {
   "display_name": "Python (biomedgpt)",
   "language": "python",
   "name": "biomedgpt"
  },
  "language_info": {
   "codemirror_mode": {
    "name": "ipython",
    "version": 3
   },
   "file_extension": ".py",
   "mimetype": "text/x-python",
   "name": "python",
   "nbconvert_exporter": "python",
   "pygments_lexer": "ipython3",
   "version": "3.12.4"
  }
 },
 "nbformat": 4,
 "nbformat_minor": 5
}
